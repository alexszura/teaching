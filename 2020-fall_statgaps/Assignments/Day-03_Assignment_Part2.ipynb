{
 "cells": [
  {
   "cell_type": "markdown",
   "metadata": {},
   "source": [
    "# Effect of effect_size, variance, and sample_size on p-values\n",
    ">Day03 – Assignment – Part 2"
   ]
  },
  {
   "cell_type": "markdown",
   "metadata": {},
   "source": [
    "Like we discussed in class, apart from the null hypothesis (which need not always be equivalent to random chance), the p-value of a statistical test depends on:\n",
    "1. Effect size,\n",
    "2. Sample size, and\n",
    "3. Variance within each group\n",
    "\n",
    "To explore how these factors influence the p-value, I have written the code below to simulate data for two groups multiple times (just like the excercise we did in class), each time varying the `effect_size`, `std_deviation`, and `sample_size`, and calculating the p-value using a T-test.\n",
    "\n",
    "Your tasks are the following:\n",
    "1. Carefully examine and annotate the code by writing detailed comments at each step.\n",
    "2. Examine the figure that is being produced and write a short paragraph about you observations on how these three quantities influence the p-value."
   ]
  },
  {
   "cell_type": "code",
   "execution_count": null,
   "metadata": {},
   "outputs": [],
   "source": [
    "## Imports\n",
    "import random\n",
    "import numpy as np\n",
    "import matplotlib.pyplot as plt\n",
    "%matplotlib inline\n",
    "from scipy import stats\n",
    "import pandas as pd"
   ]
  },
  {
   "cell_type": "code",
   "execution_count": null,
   "metadata": {},
   "outputs": [],
   "source": [
    "# Add comments next to each code chunk to describe the data analysis steps\n",
    "\n",
    "sample_data     = []\n",
    "es_sd_ss_pvalue = []\n",
    "\n",
    "for effect_size in np.arange(0.0, 1.05, 0.05):\n",
    "    for stddev in [0.5, 1, 2]:\n",
    "        for sample_size in [5, 10, 20, 50, 100, 200, 500, 1000]:\n",
    "            group1 = np.random.normal(size = sample_size, loc = 0, scale = stddev)\n",
    "            group2 = np.random.normal(size = sample_size, loc = effect_size, scale = stddev)\n",
    "\n",
    "            sample_data.append([[effect_size, stddev, sample_size], group1, group2])\n",
    "\n",
    "            ttest_out = abs(stats.ttest_ind(group1, group2)[1])\n",
    "            es_sd_ss_pvalue.append([effect_size, stddev, sample_size, ttest_out])"
   ]
  },
  {
   "cell_type": "markdown",
   "metadata": {},
   "source": [
    "_[ Add your notes here ]_"
   ]
  },
  {
   "cell_type": "code",
   "execution_count": null,
   "metadata": {},
   "outputs": [],
   "source": [
    "es_sd_ss_pvalue = pd.DataFrame.from_records(es_sd_ss_pvalue, columns = [\"effect_size\", \"std_deviation\", \"sample_size\", \"pvalue\"])\n",
    "es_sd_ss_pvalue"
   ]
  },
  {
   "cell_type": "markdown",
   "metadata": {},
   "source": [
    "_[ Add your notes here ]_"
   ]
  },
  {
   "cell_type": "code",
   "execution_count": null,
   "metadata": {},
   "outputs": [],
   "source": [
    "# Add comments next to each code chunk to describe the data analysis steps\n",
    "\n",
    "es_sd_ss_pvalue[\"below_threshold\"] = es_sd_ss_pvalue[\"pvalue\"] <= 0.05\n",
    "es_sd_ss_pvalue"
   ]
  },
  {
   "cell_type": "markdown",
   "metadata": {},
   "source": [
    "_[ Add your notes here ]_"
   ]
  },
  {
   "cell_type": "code",
   "execution_count": null,
   "metadata": {},
   "outputs": [],
   "source": [
    "# No need to add comments to this chunk that's just making the plot.\n",
    "# However, it is useful to go through it to make sure you understand what is being plotted in the figure.\n",
    "\n",
    "fig, axarr = plt.subplots(nrows = 1, ncols = 3, figsize = (12,5), sharey = True)\n",
    "cols = [0.5, 1, 2]\n",
    "for j in range(3):\n",
    "    subset = es_sd_ss_pvalue[es_sd_ss_pvalue[\"std_deviation\"] == cols[j]]\n",
    "    \n",
    "    axarr[j].set_title(cols[j], fontsize = 12)\n",
    "    axarr[j].set_xscale(\"log\")\n",
    "    \n",
    "    below_threshold = subset[subset[\"below_threshold\"] == True]\n",
    "    above_threshold = subset[subset[\"below_threshold\"] == False]\n",
    "    \n",
    "    axarr[j].plot(below_threshold[\"sample_size\"], below_threshold[\"effect_size\"], \"ro\")\n",
    "    axarr[j].plot(above_threshold[\"sample_size\"], above_threshold[\"effect_size\"], \"bx\")\n",
    "    \n",
    "axarr[1].set_xlabel(\"Sample Size\", fontsize = 16)\n",
    "axarr[0].set_ylabel(\"Effect Size\", fontsize = 16)\n",
    "\n",
    "plt.savefig(\"effectsize_variance_samplesize_pvalue.pdf\")"
   ]
  },
  {
   "cell_type": "markdown",
   "metadata": {},
   "source": [
    "**Question:**  \n",
    "The figure contains 3 plots next to each other, one for each value `std_deviation`. In each plot, the `sample_size` values are along the x-axis and the `effect_size` values are along the y-axis. Each point is either a red dot or a blue cross depending on whether the p-value for the t-test between the two groups (for that combination of `effect_size`, `std_deviation` , and `sample_size`) is below 0.05 or not.\n",
    "\n",
    "Examine the figure and write a short paragraph about you observations on how these three quantities influence the p-value."
   ]
  },
  {
   "cell_type": "markdown",
   "metadata": {},
   "source": [
    "_[ Write your answer here. ]_"
   ]
  }
 ],
 "metadata": {
  "kernelspec": {
   "display_name": "Python 3",
   "language": "python",
   "name": "python3"
  },
  "language_info": {
   "codemirror_mode": {
    "name": "ipython",
    "version": 3
   },
   "file_extension": ".py",
   "mimetype": "text/x-python",
   "name": "python",
   "nbconvert_exporter": "python",
   "pygments_lexer": "ipython3",
   "version": "3.8.3"
  }
 },
 "nbformat": 4,
 "nbformat_minor": 4
}
