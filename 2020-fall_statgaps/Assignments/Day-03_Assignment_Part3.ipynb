{
 "cells": [
  {
   "cell_type": "markdown",
   "metadata": {},
   "source": [
    "# P-hacking\n",
    ">Day03 – Assignment – Part 3"
   ]
  },
  {
   "cell_type": "markdown",
   "metadata": {},
   "source": [
    "P-hacking is the practice of collecting or selecting data or statistical analyses until nonsignificant results become significant.\n",
    "\n",
    "You tasks:\n",
    "1. Carefully examine and annotate the code by writing detailed comments at each step.\n",
    "2. Describe your thoughts on what this coding exercise has to do with p-hacking."
   ]
  },
  {
   "cell_type": "markdown",
   "metadata": {},
   "source": [
    "_[ Add your notes here. ]_"
   ]
  },
  {
   "cell_type": "code",
   "execution_count": null,
   "metadata": {},
   "outputs": [],
   "source": [
    "## Imports\n",
    "import random\n",
    "import numpy as np\n",
    "from scipy import stats\n",
    "import matplotlib.pyplot as plt\n",
    "%matplotlib inline"
   ]
  },
  {
   "cell_type": "markdown",
   "metadata": {},
   "source": [
    "_[ Add your notes here. ]_"
   ]
  },
  {
   "cell_type": "code",
   "execution_count": null,
   "metadata": {},
   "outputs": [],
   "source": [
    "# Add comments next to each code chunk to describe the data analysis steps\n",
    "\n",
    "data = np.random.normal(size = 200)\n",
    "plt.hist(data, edgecolor = \"k\")"
   ]
  },
  {
   "cell_type": "markdown",
   "metadata": {},
   "source": [
    "_[ Add your notes here. ]_"
   ]
  },
  {
   "cell_type": "code",
   "execution_count": null,
   "metadata": {},
   "outputs": [],
   "source": [
    "# Add comments next to each code chunk to describe the data analysis steps\n",
    "\n",
    "attempts = 0\n",
    "pvalue   = 1"
   ]
  },
  {
   "cell_type": "markdown",
   "metadata": {},
   "source": [
    "_[ Add your notes here. ]_"
   ]
  },
  {
   "cell_type": "code",
   "execution_count": null,
   "metadata": {},
   "outputs": [],
   "source": [
    "# Add comments next to each code chunk to describe the data analysis steps\n",
    "\n",
    "while pvalue > 0.05:\n",
    "    attempts += 1\n",
    "\n",
    "    sampled_inds = random.sample(range(len(data)), k = 100)\n",
    "    cases    = data[sampled_inds]\n",
    "    \n",
    "    mask     = np.array([True]*len(data))\n",
    "    mask[sampled_inds] = False\n",
    "    controls = data[mask]\n",
    "\n",
    "    pvalue = abs(stats.ttest_ind(cases, controls)[0])\n",
    "\n",
    "\n",
    "print(\"Congratulations! With p =\", pvalue, \"you achieved scientific success in\", attempts, \"attempts!\")"
   ]
  },
  {
   "cell_type": "markdown",
   "metadata": {},
   "source": [
    "**Question:**  \n",
    "What this coding exercise has to do with p-hacking?"
   ]
  },
  {
   "cell_type": "markdown",
   "metadata": {},
   "source": [
    "_[ Add your notes here. ]_"
   ]
  }
 ],
 "metadata": {
  "kernelspec": {
   "display_name": "Python 3",
   "language": "python",
   "name": "python3"
  },
  "language_info": {
   "codemirror_mode": {
    "name": "ipython",
    "version": 3
   },
   "file_extension": ".py",
   "mimetype": "text/x-python",
   "name": "python",
   "nbconvert_exporter": "python",
   "pygments_lexer": "ipython3",
   "version": "3.8.3"
  }
 },
 "nbformat": 4,
 "nbformat_minor": 4
}
