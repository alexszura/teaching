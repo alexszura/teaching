{
 "cells": [
  {
   "cell_type": "markdown",
   "metadata": {},
   "source": [
    "# Calculating p-value using a permutation test\n",
    ">Day03 – Assignment – Part 1"
   ]
  },
  {
   "cell_type": "markdown",
   "metadata": {},
   "source": [
    "This first part of the assignment is identical to the exercise we did in-class yesterday (Nov 16). I’m asking you to submit this Jupyter Notebook back to me with your comments/annotations on the code and the results, along with your interpretation and answers to a couple of questions at the end."
   ]
  },
  {
   "cell_type": "code",
   "execution_count": null,
   "metadata": {},
   "outputs": [],
   "source": [
    "# Importing libraries we will use for this assignment\n",
    "import random\n",
    "import numpy as np\n",
    "import matplotlib.pyplot as plt\n",
    "%matplotlib inline"
   ]
  },
  {
   "cell_type": "code",
   "execution_count": null,
   "metadata": {},
   "outputs": [],
   "source": [
    "### Don't need to run this commented code ###\n",
    "# Generate some data\n",
    "\n",
    "# effect_size = 0.25\n",
    "# stddev      = 0.5\n",
    "# sample_size = 20\n",
    "\n",
    "# group1 = np.round(np.random.normal(size = sample_size, loc = 0.0, scale = stddev)*10)\n",
    "# group2 = np.round(np.random.normal(size = sample_size, loc = effect_size, scale = stddev)*10)\n",
    "\n",
    "# print(\"Group 1:\", group1)\n",
    "# print(\"Group 2:\", group2)"
   ]
  },
  {
   "cell_type": "markdown",
   "metadata": {},
   "source": [
    "_[ Add your notes here ]_"
   ]
  },
  {
   "cell_type": "code",
   "execution_count": null,
   "metadata": {},
   "outputs": [],
   "source": [
    "# Data\n",
    "group1 = [0, 5, 2, -2, 8,\n",
    "          -6, 0, 0, -6, -3,\n",
    "          -7, 4, -2, -2, 0,\n",
    "          -4, -1, -8, 0, 6]\n",
    "\n",
    "group2 = [-2, 2, -2, -5, 7,\n",
    "          11, 6, 2, 1, 1,\n",
    "          6, -2, -1, 7, 7,\n",
    "          -2, 4, 3, -1, 17]\n",
    "\n",
    "sample_size = len(group1)"
   ]
  },
  {
   "cell_type": "markdown",
   "metadata": {},
   "source": [
    "_[ Add your notes here ]_"
   ]
  },
  {
   "cell_type": "code",
   "execution_count": null,
   "metadata": {},
   "outputs": [],
   "source": [
    "# Add comments next to each code chunk to describe the data analysis steps\n",
    "\n",
    "plt.hist(group1, color = \"b\", alpha = 0.25, edgecolor = \"k\")\n",
    "plt.hist(group2, color = \"r\", alpha = 0.25, edgecolor = \"k\")\n",
    "plt.axvline(x = np.mean(group1), color = \"b\")\n",
    "plt.axvline(x = np.mean(group2), color = \"r\")"
   ]
  },
  {
   "cell_type": "markdown",
   "metadata": {},
   "source": [
    "_[ Add your notes here ]_"
   ]
  },
  {
   "cell_type": "code",
   "execution_count": null,
   "metadata": {},
   "outputs": [],
   "source": [
    "# Add comments next to each code chunk to describe the data analysis steps\n",
    "\n",
    "signal = np.mean(group2) - np.mean(group1)\n",
    "noise  = np.sqrt((np.var(group2) / sample_size) + (np.var(group1) / sample_size))\n",
    "\n",
    "test_statistic = signal / noise\n",
    "print(test_statistic)"
   ]
  },
  {
   "cell_type": "markdown",
   "metadata": {},
   "source": [
    "_[ Add your notes here ]_"
   ]
  },
  {
   "cell_type": "code",
   "execution_count": null,
   "metadata": {},
   "outputs": [],
   "source": [
    "# Add comments next to each code chunk to describe the data analysis steps\n",
    "\n",
    "num_permutations          = 10000\n",
    "permuted_test_statistics  = []"
   ]
  },
  {
   "cell_type": "markdown",
   "metadata": {},
   "source": [
    "_[ Add your notes here ]_"
   ]
  },
  {
   "cell_type": "code",
   "execution_count": null,
   "metadata": {},
   "outputs": [],
   "source": [
    "# Add comments next to each code chunk to describe the data analysis steps\n",
    "\n",
    "for i in range(num_permutations):\n",
    "    permuted_data = group1 + group2\n",
    "    random.shuffle(permuted_data)\n",
    "\n",
    "    rand_group1 = permuted_data[:20]\n",
    "    rand_group2 = permuted_data[20:]\n",
    "\n",
    "    signal = np.mean(rand_group2) - np.mean(rand_group1)\n",
    "    noise  = np.sqrt((np.var(rand_group2) / 20) + (np.var(rand_group1) / 20))\n",
    "\n",
    "    permuted_test_statistics.append(signal / noise)"
   ]
  },
  {
   "cell_type": "markdown",
   "metadata": {},
   "source": [
    "_[ Add your notes here ]_"
   ]
  },
  {
   "cell_type": "code",
   "execution_count": null,
   "metadata": {},
   "outputs": [],
   "source": [
    "# Add comments next to each code chunk to describe the data analysis steps\n",
    "\n",
    "plt.hist(permuted_test_statistics, edgecolor = \"k\")\n",
    "plt.axvline(test_statistic, color = \"red\", lw = 2)"
   ]
  },
  {
   "cell_type": "markdown",
   "metadata": {},
   "source": [
    "_[ Add your notes here ]_"
   ]
  },
  {
   "cell_type": "code",
   "execution_count": null,
   "metadata": {},
   "outputs": [],
   "source": [
    "# Add comments next to each code chunk to describe the data analysis steps\n",
    "\n",
    "pvalue = sum(permuted_test_statistics >= test_statistic) / num_permutations\n",
    "print(\"The pvalue based on a permutation test is\", pvalue)"
   ]
  },
  {
   "cell_type": "markdown",
   "metadata": {},
   "source": [
    "_[ Add your notes here ]_"
   ]
  },
  {
   "cell_type": "markdown",
   "metadata": {},
   "source": [
    "**Question 1:**  \n",
    "Define the p-value you just calculated in terms of this specific ‘humor medicine’ intervention experiment. The general definition is on slide 11 of the Day-03 lecture."
   ]
  },
  {
   "cell_type": "markdown",
   "metadata": {},
   "source": [
    "_[ Write your answer here. ]_"
   ]
  },
  {
   "cell_type": "code",
   "execution_count": null,
   "metadata": {},
   "outputs": [],
   "source": [
    "# Add comments next to each code chunk to describe the data analysis steps\n",
    "\n",
    "from scipy import stats\n",
    "stats.ttest_ind(group2, group1, equal_var=False)[1]/2"
   ]
  },
  {
   "cell_type": "markdown",
   "metadata": {},
   "source": [
    "**Question 2:**  \n",
    "Is the p-value you calcualted using the permutation test close to the p-value calcualted using the conventional t-test?"
   ]
  },
  {
   "cell_type": "markdown",
   "metadata": {},
   "source": [
    "_[ Write your answer here. ]_"
   ]
  }
 ],
 "metadata": {
  "kernelspec": {
   "display_name": "Python 3",
   "language": "python",
   "name": "python3"
  },
  "language_info": {
   "codemirror_mode": {
    "name": "ipython",
    "version": 3
   },
   "file_extension": ".py",
   "mimetype": "text/x-python",
   "name": "python",
   "nbconvert_exporter": "python",
   "pygments_lexer": "ipython3",
   "version": "3.8.3"
  }
 },
 "nbformat": 4,
 "nbformat_minor": 4
}
